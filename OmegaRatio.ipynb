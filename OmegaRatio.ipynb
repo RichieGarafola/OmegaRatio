{
 "cells": [
  {
   "cell_type": "code",
   "execution_count": 1,
   "id": "539f6663-4367-4a9e-8030-367908f55ffb",
   "metadata": {},
   "outputs": [],
   "source": [
    "# Import the required libraries\n",
    "\n",
    "import yfinance as yf\n",
    "import numpy as np\n",
    "import matplotlib.pyplot as plt"
   ]
  },
  {
   "cell_type": "code",
   "execution_count": 2,
   "id": "282c2816-586a-476e-aec7-15fa6e41948a",
   "metadata": {},
   "outputs": [
    {
     "name": "stdin",
     "output_type": "stream",
     "text": [
      "Enter ticker of your choice msft\n"
     ]
    },
    {
     "name": "stdout",
     "output_type": "stream",
     "text": [
      "[*********************100%***********************]  1 of 1 completed\n"
     ]
    }
   ],
   "source": [
    "# Grab the data from yahoo finance API\n",
    "name = (input(\"Enter ticker of your choice\")).upper()\n",
    "data = yf.download(name, start=\"2022-01-01\", end=\"2023-12-31\")\n",
    "\n",
    "# compute returns using the adjusted close price and the built in pct_change function\n",
    "returns = data[\"Adj Close\"].pct_change()"
   ]
  },
  {
   "cell_type": "code",
   "execution_count": 8,
   "id": "4f9de00e-c902-4e24-aa45-433206b0d2d7",
   "metadata": {},
   "outputs": [],
   "source": [
    "# Create a function for the Omega ratio\n",
    "\n",
    "# Annualize the return threshold.\n",
    "# Subtract the threshold from the returns.\n",
    "# Add up the positive returns less the threshold and negative returns less the threshold.\n",
    "\n",
    "# The Omega ratio is the sum of positive returns less the threshold \n",
    "# divided by the sum of negative returns less the threshold.\n",
    "\n",
    "def omega_ratio(returns, required_return=0.0):\n",
    "    \"\"\"Determines the Omega ratio of a strategy.\n",
    "    \n",
    "    Parameters\n",
    "    ----------\n",
    "    returns : pd.Series or np.ndarray\n",
    "        Daily returns of the strategy, noncumulative.\n",
    "    required_return : float, optional\n",
    "        Minimum acceptance return of the investor. Threshold over which to\n",
    "        consider positive vs negative returns. It will be converted to a\n",
    "        value appropriate for the period of the returns. E.g. An annual minimum\n",
    "        acceptable return of 100 will translate to a minimum acceptable\n",
    "        return of 0.018.\n",
    "\n",
    "    Returns\n",
    "    -------\n",
    "    omega_ratio : float\n",
    "\n",
    "    Note\n",
    "    -----\n",
    "    See <https://en.wikipedia.org/wiki/Omega_ratio> for more details.\n",
    "    \"\"\"\n",
    "    \n",
    "    return_threshold = (1 + required_return) ** (1 / 252) - 1\n",
    "    \n",
    "    returns_less_thresh = returns - return_threshold\n",
    "    \n",
    "    numer = sum(returns_less_thresh[returns_less_thresh > 0.0])\n",
    "    denom = -1.0 * sum(returns_less_thresh[returns_less_thresh < 0.0])\n",
    "    \n",
    "    if denom > 0.0:\n",
    "        return numer / denom\n",
    "    else:\n",
    "        return np.nan"
   ]
  },
  {
   "cell_type": "code",
   "execution_count": 4,
   "id": "83ce0bb7-bf77-4e5f-8862-3d47875224b9",
   "metadata": {},
   "outputs": [
    {
     "data": {
      "image/png": "[encoded data removed]",
      "text/plain": [
       "<Figure size 432x288 with 1 Axes>"
      ]
     },
     "metadata": {
      "needs_background": "light"
     },
     "output_type": "display_data"
    }
   ],
   "source": [
    "# create a distribution of returns\n",
    "returns.hist(bins=50);\n",
    "\n",
    "# Save the figure.\n",
    "plt.savefig(f\"./Images/{name}OmegaRatio.jpg\")"
   ]
  },
  {
   "cell_type": "code",
   "execution_count": 5,
   "id": "9c0023f2-8945-4257-9d46-e423624d52b7",
   "metadata": {},
   "outputs": [
    {
     "name": "stdout",
     "output_type": "stream",
     "text": [
      "Skew Returns\n"
     ]
    },
    {
     "data": {
      "text/plain": [
       "0.13919640225780566"
      ]
     },
     "metadata": {},
     "output_type": "display_data"
    },
    {
     "name": "stdout",
     "output_type": "stream",
     "text": [
      "\n",
      "Kurtosis Returns\n"
     ]
    },
    {
     "data": {
      "text/plain": [
       "0.8457999115445545"
      ]
     },
     "metadata": {},
     "output_type": "display_data"
    }
   ],
   "source": [
    "# check the skew and kurtosis.\n",
    "\n",
    "print(\"Skew Returns\")\n",
    "display(returns.skew())\n",
    "\n",
    "print()\n",
    "\n",
    "print(\"Kurtosis Returns\")\n",
    "display(returns.kurtosis())"
   ]
  },
  {
   "cell_type": "code",
   "execution_count": 6,
   "id": "312dae31-30da-4cd5-b392-fc1e6e958c6a",
   "metadata": {},
   "outputs": [
    {
     "name": "stdout",
     "output_type": "stream",
     "text": [
      "Omega Ratio\n"
     ]
    },
    {
     "data": {
      "text/plain": [
       "0.8633749196632688"
      ]
     },
     "execution_count": 6,
     "metadata": {},
     "output_type": "execute_result"
    }
   ],
   "source": [
    "# compute the Omega ratio.\n",
    "# use a threshold of 7% which is the historical average annual return of the stock market\n",
    "\n",
    "print(\"Omega Ratio\")\n",
    "omega_ratio(returns, 0.07)"
   ]
  },
  {
   "cell_type": "code",
   "execution_count": 7,
   "id": "b02054ca-b406-4afc-bc68-3bf37b2253bc",
   "metadata": {},
   "outputs": [
    {
     "name": "stdout",
     "output_type": "stream",
     "text": [
      "The Omega ratio is 0.86. Taking into consideration skew and kurtosis, \n",
      "MSFT’s gains outperformed the losses by a factor of 0.86\n"
     ]
    }
   ],
   "source": [
    "print(f\"The Omega ratio is {round(omega_ratio(returns, 0.07), 2)}. Taking into consideration skew and kurtosis, \\n{name}’s gains outperformed the losses by a factor of {round(omega_ratio(returns, 0.07), 2)}\")"
   ]
  },
  {
   "cell_type": "code",
   "execution_count": null,
   "id": "9bcf4477-ab7e-464a-952e-067aefb95fc6",
   "metadata": {},
   "outputs": [],
   "source": []
  }
 ],
 "metadata": {
  "kernelspec": {
   "display_name": "Python [conda env:RGNY] *",
   "language": "python",
   "name": "conda-env-RGNY-py"
  },
  "language_info": {
   "codemirror_mode": {
    "name": "ipython",
    "version": 3
   },
   "file_extension": ".py",
   "mimetype": "text/x-python",
   "name": "python",
   "nbconvert_exporter": "python",
   "pygments_lexer": "ipython3",
   "version": "3.7.11"
  }
 },
 "nbformat": 4,
 "nbformat_minor": 5
}
